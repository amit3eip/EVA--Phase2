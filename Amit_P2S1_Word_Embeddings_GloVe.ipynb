{
  "nbformat": 4,
  "nbformat_minor": 0,
  "metadata": {
    "kernelspec": {
      "name": "python3",
      "display_name": "Python 3"
    },
    "language_info": {
      "codemirror_mode": {
        "name": "ipython",
        "version": 3
      },
      "file_extension": ".py",
      "mimetype": "text/x-python",
      "name": "python",
      "nbconvert_exporter": "python",
      "pygments_lexer": "ipython3",
      "version": "3.6.8"
    },
    "colab": {
      "name": "Amit_P2S1 Word Embeddings GloVe.ipynb",
      "provenance": [],
      "collapsed_sections": []
    },
    "accelerator": "GPU"
  },
  "cells": [
    {
      "cell_type": "markdown",
      "metadata": {
        "id": "8Qo4kciusjqu",
        "colab_type": "text"
      },
      "source": [
        "## Import Stuff"
      ]
    },
    {
      "cell_type": "code",
      "metadata": {
        "id": "l1AOxpiksjq2",
        "colab_type": "code",
        "outputId": "3f7a832f-7c4a-43bc-da4c-6f2f9f8dccd7",
        "colab": {
          "base_uri": "https://localhost:8080/",
          "height": 35
        }
      },
      "source": [
        "#Importing stuff\n",
        "import os\n",
        "import numpy as np\n",
        "import matplotlib.pyplot as plt\n",
        "\n",
        "from keras.preprocessing.text import Tokenizer\n",
        "from keras.preprocessing.sequence import pad_sequences"
      ],
      "execution_count": 1,
      "outputs": [
        {
          "output_type": "stream",
          "text": [
            "Using TensorFlow backend.\n"
          ],
          "name": "stderr"
        }
      ]
    },
    {
      "cell_type": "markdown",
      "metadata": {
        "id": "pxvVXxxgsjrs",
        "colab_type": "text"
      },
      "source": [
        "## Data Download and Preporcessing\n",
        "\n",
        "1. Download and uncompress the raw IMDB data.\n",
        "2. parse review and label into list with corresponding indices."
      ]
    },
    {
      "cell_type": "code",
      "metadata": {
        "id": "sQNstbvc5tsa",
        "colab_type": "code",
        "outputId": "5c96bfcd-7858-4c65-a93f-28a8c9891296",
        "colab": {
          "base_uri": "https://localhost:8080/",
          "height": 217
        }
      },
      "source": [
        "# Download and extract the data\n",
        "!wget  https://ai.stanford.edu/~amaas/data/sentiment/aclImdb_v1.tar.gz\n",
        "!tar -xzf aclImdb_v1.tar.gz\n",
        "!rm -r aclImdb_v1.tar.gz"
      ],
      "execution_count": 2,
      "outputs": [
        {
          "output_type": "stream",
          "text": [
            "--2020-04-19 13:55:09--  https://ai.stanford.edu/~amaas/data/sentiment/aclImdb_v1.tar.gz\n",
            "Resolving ai.stanford.edu (ai.stanford.edu)... 171.64.68.10\n",
            "Connecting to ai.stanford.edu (ai.stanford.edu)|171.64.68.10|:443... connected.\n",
            "HTTP request sent, awaiting response... 200 OK\n",
            "Length: 84125825 (80M) [application/x-gzip]\n",
            "Saving to: ‘aclImdb_v1.tar.gz’\n",
            "\n",
            "aclImdb_v1.tar.gz   100%[===================>]  80.23M  20.0MB/s    in 6.7s    \n",
            "\n",
            "2020-04-19 13:55:16 (11.9 MB/s) - ‘aclImdb_v1.tar.gz’ saved [84125825/84125825]\n",
            "\n"
          ],
          "name": "stdout"
        }
      ]
    },
    {
      "cell_type": "code",
      "metadata": {
        "id": "w9yaeGjpsjrv",
        "colab_type": "code",
        "colab": {}
      },
      "source": [
        "# processing the labels of raw imdb data\n",
        "imdb_dir = 'aclImdb'\n",
        "train_dir = os.path.join(imdb_dir, 'train')\n",
        "\n",
        "labels = []\n",
        "texts = []\n",
        "for label_type in ['neg', 'pos']:\n",
        "    dir_name = os.path.join(train_dir, label_type)\n",
        "    for fname in os.listdir(dir_name):\n",
        "        if fname[-4:] == '.txt':\n",
        "            f = open(os.path.join(dir_name, fname))\n",
        "            texts.append(f.read())\n",
        "            f.close()\n",
        "            if label_type == 'neg':\n",
        "                labels.append(0)\n",
        "            else:\n",
        "                labels.append(1)"
      ],
      "execution_count": 0,
      "outputs": []
    },
    {
      "cell_type": "markdown",
      "metadata": {
        "id": "RxvHlvVBsjr5",
        "colab_type": "text"
      },
      "source": [
        "##### tokenizing the text of raw input data"
      ]
    },
    {
      "cell_type": "code",
      "metadata": {
        "id": "DrmBeiK0sjr7",
        "colab_type": "code",
        "outputId": "8deda640-a708-4fd8-9074-d5497d392acf",
        "colab": {
          "base_uri": "https://localhost:8080/",
          "height": 72
        }
      },
      "source": [
        "maxlen = 100                        # max lenght of document  = 100\n",
        "training_samples = 8000              # Number of samples/documents = 8000 as asked in assignment\n",
        "validation_samples = 10000          # Validates on 10,000 samples\n",
        "max_words = 10000                   # only top 10,000 words to be used based on magnitude of count\n",
        "\n",
        "# Tokenizing\n",
        "tokenizer = Tokenizer(num_words=max_words)\n",
        "tokenizer.fit_on_texts(texts)\n",
        "sequences = tokenizer.texts_to_sequences(texts)\n",
        "\n",
        "# Creating index values for the words\n",
        "word_index = tokenizer.word_index\n",
        "print('Found %s unique tokens.' % len(word_index))\n",
        "\n",
        "# Padding the sequences which fall short of lenght of words 100\n",
        "data = pad_sequences(sequences, maxlen=maxlen)\n",
        "\n",
        "# Converting label list into np array\n",
        "labels = np.asarray(labels)\n",
        "print('Shape of data tensor:', data.shape)\n",
        "print('Shape of label tensor:', labels.shape)"
      ],
      "execution_count": 4,
      "outputs": [
        {
          "output_type": "stream",
          "text": [
            "Found 88582 unique tokens.\n",
            "Shape of data tensor: (25000, 100)\n",
            "Shape of label tensor: (25000,)\n"
          ],
          "name": "stdout"
        }
      ]
    },
    {
      "cell_type": "markdown",
      "metadata": {
        "id": "qLJ3Ga1OsjsE",
        "colab_type": "text"
      },
      "source": [
        "### Data Split\n",
        "Split the data into a training set and a validation set.\n",
        "Shuffle the data before split."
      ]
    },
    {
      "cell_type": "code",
      "metadata": {
        "id": "zxHrmNt1sjsH",
        "colab_type": "code",
        "colab": {}
      },
      "source": [
        "# Random Shuffling\n",
        "indices = np.arange(data.shape[0])\n",
        "np.random.shuffle(indices)\n",
        "data = data[indices]\n",
        "labels = labels[indices]\n",
        "\n",
        "# Train and validation split\n",
        "x_train = data[:training_samples]\n",
        "y_train = labels[:training_samples]\n",
        "x_val = data[training_samples: training_samples + validation_samples]\n",
        "y_val = labels[training_samples: training_samples + validation_samples]"
      ],
      "execution_count": 0,
      "outputs": []
    },
    {
      "cell_type": "markdown",
      "metadata": {
        "id": "AtlBRsgfsjsT",
        "colab_type": "text"
      },
      "source": [
        "## EMBEDDINGS"
      ]
    },
    {
      "cell_type": "markdown",
      "metadata": {
        "id": "ZFED7HWVsjsQ",
        "colab_type": "text"
      },
      "source": [
        "### Download and unzip glove word embedding"
      ]
    },
    {
      "cell_type": "code",
      "metadata": {
        "id": "TtQwbsdGDFn4",
        "colab_type": "code",
        "outputId": "154747c3-07c6-43fa-b875-bf3c2d4fcd73",
        "colab": {
          "base_uri": "https://localhost:8080/",
          "height": 308
        }
      },
      "source": [
        "!wget https://github.com/allenai/spv2/raw/master/model/glove.6B.100d.txt.gz \n",
        "!gzip -d glove.6B.100d.txt.gz"
      ],
      "execution_count": 6,
      "outputs": [
        {
          "output_type": "stream",
          "text": [
            "--2020-04-19 13:55:42--  https://github.com/allenai/spv2/raw/master/model/glove.6B.100d.txt.gz\n",
            "Resolving github.com (github.com)... 140.82.113.4\n",
            "Connecting to github.com (github.com)|140.82.113.4|:443... connected.\n",
            "HTTP request sent, awaiting response... 302 Found\n",
            "Location: https://media.githubusercontent.com/media/allenai/spv2/master/model/glove.6B.100d.txt.gz [following]\n",
            "--2020-04-19 13:55:43--  https://media.githubusercontent.com/media/allenai/spv2/master/model/glove.6B.100d.txt.gz\n",
            "Resolving media.githubusercontent.com (media.githubusercontent.com)... 151.101.0.133, 151.101.64.133, 151.101.128.133, ...\n",
            "Connecting to media.githubusercontent.com (media.githubusercontent.com)|151.101.0.133|:443... connected.\n",
            "HTTP request sent, awaiting response... 200 OK\n",
            "Length: 134409071 (128M) [application/octet-stream]\n",
            "Saving to: ‘glove.6B.100d.txt.gz’\n",
            "\n",
            "glove.6B.100d.txt.g 100%[===================>] 128.18M   100MB/s    in 1.3s    \n",
            "\n",
            "2020-04-19 13:55:51 (100 MB/s) - ‘glove.6B.100d.txt.gz’ saved [134409071/134409071]\n",
            "\n"
          ],
          "name": "stdout"
        }
      ]
    },
    {
      "cell_type": "code",
      "metadata": {
        "id": "Zm_XjRjnsjsW",
        "colab_type": "code",
        "outputId": "ade4a714-5c83-4ced-af9e-c849c7751166",
        "colab": {
          "base_uri": "https://localhost:8080/",
          "height": 35
        }
      },
      "source": [
        "# Parsing the GloVe word-embeddings file\n",
        "glove_dir = ''\n",
        "embeddings_index = {}\n",
        "f = open(os.path.join(glove_dir, 'glove.6B.100d.txt'))\n",
        "for line in f:\n",
        "    values = line.split()\n",
        "    word = values[0]\n",
        "    coefs = np.asarray(values[1:], dtype='float32')\n",
        "    embeddings_index[word] = coefs\n",
        "f.close()\n",
        "print('Found %s word vectors.' % len(embeddings_index))"
      ],
      "execution_count": 7,
      "outputs": [
        {
          "output_type": "stream",
          "text": [
            "Found 400000 word vectors.\n"
          ],
          "name": "stdout"
        }
      ]
    },
    {
      "cell_type": "markdown",
      "metadata": {
        "id": "K4RrjDYcsjsi",
        "colab_type": "text"
      },
      "source": [
        "### Embedding matrix\n",
        "shape:  (max_words, embedding_dim)\n"
      ]
    },
    {
      "cell_type": "code",
      "metadata": {
        "id": "FepFxS-Lsjsl",
        "colab_type": "code",
        "colab": {}
      },
      "source": [
        "# GloVe word_embeddings matrix\n",
        "embedding_dim = 100\n",
        "embedding_matrix = np.zeros((max_words, embedding_dim))\n",
        "\n",
        "for word, i in word_index.items():\n",
        "    if i < max_words:\n",
        "        embedding_vector = embeddings_index.get(word)\n",
        "        if embedding_vector is not None:\n",
        "            embedding_matrix[i] = embedding_vector"
      ],
      "execution_count": 0,
      "outputs": []
    },
    {
      "cell_type": "code",
      "metadata": {
        "id": "Y6qr9iE7sjss",
        "colab_type": "code",
        "outputId": "30922e04-217e-4530-8bd4-ba721a4ebd31",
        "colab": {
          "base_uri": "https://localhost:8080/",
          "height": 308
        }
      },
      "source": [
        "from keras.models import Sequential\n",
        "from keras.layers import Embedding, Flatten, Dense\n",
        "from keras.callbacks import ModelCheckpoint\n",
        "\n",
        "# Defining simple model\n",
        "model = Sequential()\n",
        "model.add(Embedding(max_words, embedding_dim, input_length=maxlen))\n",
        "model.add(Flatten())\n",
        "model.add(Dense(32, activation='relu'))\n",
        "model.add(Dense(1, activation='sigmoid'))\n",
        "model.summary()"
      ],
      "execution_count": 9,
      "outputs": [
        {
          "output_type": "stream",
          "text": [
            "Model: \"sequential_1\"\n",
            "_________________________________________________________________\n",
            "Layer (type)                 Output Shape              Param #   \n",
            "=================================================================\n",
            "embedding_1 (Embedding)      (None, 100, 100)          1000000   \n",
            "_________________________________________________________________\n",
            "flatten_1 (Flatten)          (None, 10000)             0         \n",
            "_________________________________________________________________\n",
            "dense_1 (Dense)              (None, 32)                320032    \n",
            "_________________________________________________________________\n",
            "dense_2 (Dense)              (None, 1)                 33        \n",
            "=================================================================\n",
            "Total params: 1,320,065\n",
            "Trainable params: 1,320,065\n",
            "Non-trainable params: 0\n",
            "_________________________________________________________________\n"
          ],
          "name": "stdout"
        }
      ]
    },
    {
      "cell_type": "code",
      "metadata": {
        "id": "mC5X_J98sjs1",
        "colab_type": "code",
        "colab": {}
      },
      "source": [
        "# loading GLOVE EMBEDDINGS As weights in layer0// trainable==False\n",
        "model.layers[0].set_weights([embedding_matrix])\n",
        "model.layers[0].trainable = False"
      ],
      "execution_count": 0,
      "outputs": []
    },
    {
      "cell_type": "code",
      "metadata": {
        "id": "MuTsAOvqsjs8",
        "colab_type": "code",
        "outputId": "388c3eff-9fd8-4a0c-e9c1-30e93e3b989a",
        "colab": {
          "base_uri": "https://localhost:8080/",
          "height": 1000
        }
      },
      "source": [
        "# training and evaluation\n",
        "model.compile(optimizer='rmsprop',\n",
        "              loss='binary_crossentropy',\n",
        "              metrics=['acc'])\n",
        "\n",
        "checkpoint = ModelCheckpoint('pre_trained_glove_model.h5', monitor='val_acc', verbose=1, save_best_only=True, mode='max')\n",
        "\n",
        "history = model.fit(x_train, y_train,\n",
        "                    epochs=40,\n",
        "                    batch_size=32,\n",
        "                    validation_data=(x_val, y_val),\n",
        "                    callbacks=[checkpoint])\n"
      ],
      "execution_count": 11,
      "outputs": [
        {
          "output_type": "stream",
          "text": [
            "Train on 8000 samples, validate on 10000 samples\n",
            "Epoch 1/40\n",
            "8000/8000 [==============================] - 3s 399us/step - loss: 0.6973 - acc: 0.6051 - val_loss: 0.6264 - val_acc: 0.6546\n",
            "\n",
            "Epoch 00001: val_acc improved from -inf to 0.65460, saving model to pre_trained_glove_model.h5\n",
            "Epoch 2/40\n",
            "8000/8000 [==============================] - 2s 191us/step - loss: 0.5561 - acc: 0.7170 - val_loss: 0.6187 - val_acc: 0.6716\n",
            "\n",
            "Epoch 00002: val_acc improved from 0.65460 to 0.67160, saving model to pre_trained_glove_model.h5\n",
            "Epoch 3/40\n",
            "8000/8000 [==============================] - 2s 195us/step - loss: 0.4749 - acc: 0.7732 - val_loss: 0.5718 - val_acc: 0.7033\n",
            "\n",
            "Epoch 00003: val_acc improved from 0.67160 to 0.70330, saving model to pre_trained_glove_model.h5\n",
            "Epoch 4/40\n",
            "8000/8000 [==============================] - 2s 193us/step - loss: 0.4074 - acc: 0.8159 - val_loss: 0.6029 - val_acc: 0.6977\n",
            "\n",
            "Epoch 00004: val_acc did not improve from 0.70330\n",
            "Epoch 5/40\n",
            "8000/8000 [==============================] - 2s 194us/step - loss: 0.3456 - acc: 0.8471 - val_loss: 0.8018 - val_acc: 0.6302\n",
            "\n",
            "Epoch 00005: val_acc did not improve from 0.70330\n",
            "Epoch 6/40\n",
            "8000/8000 [==============================] - 2s 194us/step - loss: 0.2854 - acc: 0.8821 - val_loss: 0.6747 - val_acc: 0.7002\n",
            "\n",
            "Epoch 00006: val_acc did not improve from 0.70330\n",
            "Epoch 7/40\n",
            "8000/8000 [==============================] - 2s 196us/step - loss: 0.2366 - acc: 0.9050 - val_loss: 0.7080 - val_acc: 0.6998\n",
            "\n",
            "Epoch 00007: val_acc did not improve from 0.70330\n",
            "Epoch 8/40\n",
            "8000/8000 [==============================] - 2s 195us/step - loss: 0.1888 - acc: 0.9295 - val_loss: 0.8223 - val_acc: 0.6804\n",
            "\n",
            "Epoch 00008: val_acc did not improve from 0.70330\n",
            "Epoch 9/40\n",
            "8000/8000 [==============================] - 2s 194us/step - loss: 0.1524 - acc: 0.9431 - val_loss: 1.0361 - val_acc: 0.6835\n",
            "\n",
            "Epoch 00009: val_acc did not improve from 0.70330\n",
            "Epoch 10/40\n",
            "8000/8000 [==============================] - 2s 195us/step - loss: 0.1185 - acc: 0.9582 - val_loss: 0.9740 - val_acc: 0.6906\n",
            "\n",
            "Epoch 00010: val_acc did not improve from 0.70330\n",
            "Epoch 11/40\n",
            "8000/8000 [==============================] - 2s 197us/step - loss: 0.0873 - acc: 0.9731 - val_loss: 1.0137 - val_acc: 0.6902\n",
            "\n",
            "Epoch 00011: val_acc did not improve from 0.70330\n",
            "Epoch 12/40\n",
            "8000/8000 [==============================] - 2s 196us/step - loss: 0.0659 - acc: 0.9787 - val_loss: 2.0940 - val_acc: 0.5979\n",
            "\n",
            "Epoch 00012: val_acc did not improve from 0.70330\n",
            "Epoch 13/40\n",
            "8000/8000 [==============================] - 2s 196us/step - loss: 0.0559 - acc: 0.9849 - val_loss: 1.1664 - val_acc: 0.6892\n",
            "\n",
            "Epoch 00013: val_acc did not improve from 0.70330\n",
            "Epoch 14/40\n",
            "8000/8000 [==============================] - 2s 197us/step - loss: 0.0460 - acc: 0.9865 - val_loss: 1.3151 - val_acc: 0.6844\n",
            "\n",
            "Epoch 00014: val_acc did not improve from 0.70330\n",
            "Epoch 15/40\n",
            "8000/8000 [==============================] - 2s 198us/step - loss: 0.0367 - acc: 0.9887 - val_loss: 1.3880 - val_acc: 0.6901\n",
            "\n",
            "Epoch 00015: val_acc did not improve from 0.70330\n",
            "Epoch 16/40\n",
            "8000/8000 [==============================] - 2s 203us/step - loss: 0.0337 - acc: 0.9895 - val_loss: 1.4099 - val_acc: 0.6885\n",
            "\n",
            "Epoch 00016: val_acc did not improve from 0.70330\n",
            "Epoch 17/40\n",
            "8000/8000 [==============================] - 2s 195us/step - loss: 0.0241 - acc: 0.9923 - val_loss: 1.4864 - val_acc: 0.6897\n",
            "\n",
            "Epoch 00017: val_acc did not improve from 0.70330\n",
            "Epoch 18/40\n",
            "8000/8000 [==============================] - 2s 199us/step - loss: 0.0247 - acc: 0.9924 - val_loss: 1.6320 - val_acc: 0.6788\n",
            "\n",
            "Epoch 00018: val_acc did not improve from 0.70330\n",
            "Epoch 19/40\n",
            "8000/8000 [==============================] - 2s 197us/step - loss: 0.0201 - acc: 0.9940 - val_loss: 1.5860 - val_acc: 0.6855\n",
            "\n",
            "Epoch 00019: val_acc did not improve from 0.70330\n",
            "Epoch 20/40\n",
            "8000/8000 [==============================] - 2s 197us/step - loss: 0.0233 - acc: 0.9926 - val_loss: 1.6518 - val_acc: 0.6850\n",
            "\n",
            "Epoch 00020: val_acc did not improve from 0.70330\n",
            "Epoch 21/40\n",
            "8000/8000 [==============================] - 2s 198us/step - loss: 0.0170 - acc: 0.9948 - val_loss: 1.7116 - val_acc: 0.6905\n",
            "\n",
            "Epoch 00021: val_acc did not improve from 0.70330\n",
            "Epoch 22/40\n",
            "8000/8000 [==============================] - 2s 198us/step - loss: 0.0176 - acc: 0.9946 - val_loss: 1.7324 - val_acc: 0.6886\n",
            "\n",
            "Epoch 00022: val_acc did not improve from 0.70330\n",
            "Epoch 23/40\n",
            "8000/8000 [==============================] - 2s 196us/step - loss: 0.0107 - acc: 0.9965 - val_loss: 1.8369 - val_acc: 0.6931\n",
            "\n",
            "Epoch 00023: val_acc did not improve from 0.70330\n",
            "Epoch 24/40\n",
            "8000/8000 [==============================] - 2s 195us/step - loss: 0.0160 - acc: 0.9948 - val_loss: 1.8506 - val_acc: 0.6854\n",
            "\n",
            "Epoch 00024: val_acc did not improve from 0.70330\n",
            "Epoch 25/40\n",
            "8000/8000 [==============================] - 2s 195us/step - loss: 0.0109 - acc: 0.9967 - val_loss: 1.9252 - val_acc: 0.6801\n",
            "\n",
            "Epoch 00025: val_acc did not improve from 0.70330\n",
            "Epoch 26/40\n",
            "8000/8000 [==============================] - 2s 193us/step - loss: 0.0082 - acc: 0.9974 - val_loss: 4.2533 - val_acc: 0.5965\n",
            "\n",
            "Epoch 00026: val_acc did not improve from 0.70330\n",
            "Epoch 27/40\n",
            "8000/8000 [==============================] - 2s 197us/step - loss: 0.0099 - acc: 0.9962 - val_loss: 1.8871 - val_acc: 0.6807\n",
            "\n",
            "Epoch 00027: val_acc did not improve from 0.70330\n",
            "Epoch 28/40\n",
            "8000/8000 [==============================] - 2s 197us/step - loss: 0.0064 - acc: 0.9975 - val_loss: 2.2874 - val_acc: 0.6722\n",
            "\n",
            "Epoch 00028: val_acc did not improve from 0.70330\n",
            "Epoch 29/40\n",
            "8000/8000 [==============================] - 2s 194us/step - loss: 0.0138 - acc: 0.9956 - val_loss: 2.0663 - val_acc: 0.6933\n",
            "\n",
            "Epoch 00029: val_acc did not improve from 0.70330\n",
            "Epoch 30/40\n",
            "8000/8000 [==============================] - 2s 191us/step - loss: 0.0052 - acc: 0.9985 - val_loss: 2.1018 - val_acc: 0.6872\n",
            "\n",
            "Epoch 00030: val_acc did not improve from 0.70330\n",
            "Epoch 31/40\n",
            "8000/8000 [==============================] - 2s 195us/step - loss: 0.0100 - acc: 0.9967 - val_loss: 2.1650 - val_acc: 0.6811\n",
            "\n",
            "Epoch 00031: val_acc did not improve from 0.70330\n",
            "Epoch 32/40\n",
            "8000/8000 [==============================] - 2s 197us/step - loss: 0.0042 - acc: 0.9989 - val_loss: 2.2810 - val_acc: 0.6898\n",
            "\n",
            "Epoch 00032: val_acc did not improve from 0.70330\n",
            "Epoch 33/40\n",
            "8000/8000 [==============================] - 2s 211us/step - loss: 0.0072 - acc: 0.9974 - val_loss: 2.3438 - val_acc: 0.6901\n",
            "\n",
            "Epoch 00033: val_acc did not improve from 0.70330\n",
            "Epoch 34/40\n",
            "8000/8000 [==============================] - 2s 213us/step - loss: 0.0081 - acc: 0.9974 - val_loss: 2.4201 - val_acc: 0.6915\n",
            "\n",
            "Epoch 00034: val_acc did not improve from 0.70330\n",
            "Epoch 35/40\n",
            "8000/8000 [==============================] - 2s 214us/step - loss: 0.0056 - acc: 0.9984 - val_loss: 2.2786 - val_acc: 0.6901\n",
            "\n",
            "Epoch 00035: val_acc did not improve from 0.70330\n",
            "Epoch 36/40\n",
            "8000/8000 [==============================] - 2s 200us/step - loss: 0.0081 - acc: 0.9973 - val_loss: 2.3840 - val_acc: 0.6918\n",
            "\n",
            "Epoch 00036: val_acc did not improve from 0.70330\n",
            "Epoch 37/40\n",
            "8000/8000 [==============================] - 2s 197us/step - loss: 0.0041 - acc: 0.9985 - val_loss: 2.4430 - val_acc: 0.6912\n",
            "\n",
            "Epoch 00037: val_acc did not improve from 0.70330\n",
            "Epoch 38/40\n",
            "8000/8000 [==============================] - 2s 194us/step - loss: 0.0079 - acc: 0.9975 - val_loss: 2.4935 - val_acc: 0.6891\n",
            "\n",
            "Epoch 00038: val_acc did not improve from 0.70330\n",
            "Epoch 39/40\n",
            "8000/8000 [==============================] - 2s 195us/step - loss: 0.0052 - acc: 0.9981 - val_loss: 2.5610 - val_acc: 0.6878\n",
            "\n",
            "Epoch 00039: val_acc did not improve from 0.70330\n",
            "Epoch 40/40\n",
            "8000/8000 [==============================] - 2s 198us/step - loss: 0.0048 - acc: 0.9986 - val_loss: 2.5574 - val_acc: 0.6861\n",
            "\n",
            "Epoch 00040: val_acc did not improve from 0.70330\n"
          ],
          "name": "stdout"
        }
      ]
    },
    {
      "cell_type": "code",
      "metadata": {
        "id": "8cdzsW7kKSL_",
        "colab_type": "code",
        "outputId": "c8de1d89-436d-4c90-8faf-c52b565745d1",
        "colab": {
          "base_uri": "https://localhost:8080/",
          "height": 128
        }
      },
      "source": [
        "from google.colab import drive\n",
        "drive.mount('/content/drive')"
      ],
      "execution_count": 12,
      "outputs": [
        {
          "output_type": "stream",
          "text": [
            "Go to this URL in a browser: https://accounts.google.com/o/oauth2/auth?client_id=947318989803-6bn6qk8qdgf4n4g3pfee6491hc0brc4i.apps.googleusercontent.com&redirect_uri=urn%3aietf%3awg%3aoauth%3a2.0%3aoob&response_type=code&scope=email%20https%3a%2f%2fwww.googleapis.com%2fauth%2fdocs.test%20https%3a%2f%2fwww.googleapis.com%2fauth%2fdrive%20https%3a%2f%2fwww.googleapis.com%2fauth%2fdrive.photos.readonly%20https%3a%2f%2fwww.googleapis.com%2fauth%2fpeopleapi.readonly\n",
            "\n",
            "Enter your authorization code:\n",
            "··········\n",
            "Mounted at /content/drive\n"
          ],
          "name": "stdout"
        }
      ]
    },
    {
      "cell_type": "code",
      "metadata": {
        "id": "m8O6YPJQKRMH",
        "colab_type": "code",
        "colab": {
          "base_uri": "https://localhost:8080/",
          "height": 35
        },
        "outputId": "470ef347-6aea-4ebd-dc8b-bb7724aad78b"
      },
      "source": [
        "!cp pre_trained_glove_model.h5 '/content/drive/My Drive/EVA2019/Phase2/Session1 Neural Word Embeddings/'"
      ],
      "execution_count": 13,
      "outputs": [
        {
          "output_type": "stream",
          "text": [
            "cp: cannot create regular file '/content/drive/My Drive/EVA2019/Phase2/Session1 Neural Word Embeddings/': No such file or directory\n"
          ],
          "name": "stdout"
        }
      ]
    },
    {
      "cell_type": "markdown",
      "metadata": {
        "id": "VwkULdGXGT20",
        "colab_type": "text"
      },
      "source": [
        "## Results"
      ]
    },
    {
      "cell_type": "code",
      "metadata": {
        "id": "kypoJf_IsjtK",
        "colab_type": "code",
        "colab": {}
      },
      "source": [
        "##### plotting the results\n",
        "acc = history.history['acc']\n",
        "val_acc = history.history['val_acc']\n",
        "loss = history.history['loss']\n",
        "val_loss = history.history['val_loss']\n",
        "epochs = range(1, len(acc) + 1)"
      ],
      "execution_count": 0,
      "outputs": []
    },
    {
      "cell_type": "code",
      "metadata": {
        "id": "uVO5ItA2sjtW",
        "colab_type": "code",
        "outputId": "2bdb250b-655c-4acb-d596-1dcee05732e5",
        "colab": {
          "base_uri": "https://localhost:8080/",
          "height": 545
        }
      },
      "source": [
        "plt.plot(epochs, acc, 'bo', label='Training acc')\n",
        "plt.plot(epochs, val_acc, 'b', label='Validation acc')\n",
        "plt.title('Training and validation accuracy')\n",
        "plt.legend()\n",
        "plt.figure()\n",
        "plt.plot(epochs, loss, 'bo', label='Training loss')\n",
        "plt.plot(epochs, val_loss, 'b', label='Validation loss')\n",
        "plt.title('Training and validation loss')\n",
        "plt.legend()\n",
        "plt.show()"
      ],
      "execution_count": 15,
      "outputs": [
        {
          "output_type": "display_data",
          "data": {
            "image/png": "[encoded data removed]",
            "text/plain": [
              "<Figure size 432x288 with 1 Axes>"
            ]
          },
          "metadata": {
            "tags": [],
            "needs_background": "light"
          }
        },
        {
          "output_type": "display_data",
          "data": {
            "image/png": "[encoded data removed]",
            "text/plain": [
              "<Figure size 432x288 with 1 Axes>"
            ]
          },
          "metadata": {
            "tags": [],
            "needs_background": "light"
          }
        }
      ]
    },
    {
      "cell_type": "markdown",
      "metadata": {
        "id": "VfB4fJUkGs2m",
        "colab_type": "text"
      },
      "source": [
        "## Testing the model performance"
      ]
    },
    {
      "cell_type": "code",
      "metadata": {
        "id": "RXfP6TqCGXu-",
        "colab_type": "code",
        "colab": {}
      },
      "source": [
        "# Test Data\n",
        "test_dir = os.path.join(imdb_dir, 'test')\n",
        "labels = []\n",
        "texts = []\n",
        "for label_type in ['neg', 'pos']:\n",
        "    dir_name = os.path.join(test_dir, label_type)\n",
        "    for fname in sorted(os.listdir(dir_name)):\n",
        "        if fname[-4:] == '.txt':\n",
        "            f = open(os.path.join(dir_name, fname), encoding=\"utf-8\")\n",
        "            texts.append(f.read())\n",
        "            f.close()\n",
        "            if label_type == 'neg':\n",
        "                labels.append(0)\n",
        "            else:\n",
        "                labels.append(1)\n",
        "\n",
        "sequences = tokenizer.texts_to_sequences(texts)\n",
        "x_test = pad_sequences(sequences, maxlen=maxlen)\n",
        "y_test = np.asarray(labels)\n"
      ],
      "execution_count": 0,
      "outputs": []
    },
    {
      "cell_type": "code",
      "metadata": {
        "id": "EiR0FTISG5hK",
        "colab_type": "code",
        "outputId": "75dcacca-4c7f-4500-c523-8c1f40ec649b",
        "colab": {
          "base_uri": "https://localhost:8080/",
          "height": 54
        }
      },
      "source": [
        "model.load_weights('pre_trained_glove_model.h5')\n",
        "model.evaluate(x_test, y_test)"
      ],
      "execution_count": 18,
      "outputs": [
        {
          "output_type": "stream",
          "text": [
            "25000/25000 [==============================] - 2s 61us/step\n"
          ],
          "name": "stdout"
        },
        {
          "output_type": "execute_result",
          "data": {
            "text/plain": [
              "[0.5692998806667328, 0.7042400240898132]"
            ]
          },
          "metadata": {
            "tags": []
          },
          "execution_count": 18
        }
      ]
    },
    {
      "cell_type": "code",
      "metadata": {
        "id": "PNe8kmIULPNJ",
        "colab_type": "code",
        "colab": {}
      },
      "source": [
        ""
      ],
      "execution_count": 0,
      "outputs": []
    }
  ]
}